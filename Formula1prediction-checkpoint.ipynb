{
  "cells": [
    {
      "cell_type": "code",
      "execution_count": 1,
      "metadata": {
        "colab": {
          "base_uri": "https://localhost:8080/"
        },
        "id": "sCuItd34FlPf",
        "outputId": "513a2fe4-2691-4b1f-913b-77c805bb447b"
      },
      "outputs": [
        {
          "name": "stdout",
          "output_type": "stream",
          "text": [
            "Downloading from https://www.kaggle.com/api/v1/datasets/download/rohanrao/formula-1-world-championship-1950-2020?dataset_version_number=24...\n"
          ]
        },
        {
          "name": "stderr",
          "output_type": "stream",
          "text": [
            "100%|██████████| 6.28M/6.28M [00:00<00:00, 36.7MB/s]"
          ]
        },
        {
          "name": "stdout",
          "output_type": "stream",
          "text": [
            "Extracting files...\n"
          ]
        },
        {
          "name": "stderr",
          "output_type": "stream",
          "text": [
            "\n"
          ]
        },
        {
          "name": "stdout",
          "output_type": "stream",
          "text": [
            "Path to dataset files: /root/.cache/kagglehub/datasets/rohanrao/formula-1-world-championship-1950-2020/versions/24\n"
          ]
        }
      ],
      "source": [
        "import kagglehub\n",
        "\n",
        "# Download latest version\n",
        "import kagglehub\n",
        "\n",
        "# Download latest version\n",
        "path = kagglehub.dataset_download(\"rohanrao/formula-1-world-championship-1950-2020\")\n",
        "\n",
        "print(\"Path to dataset files:\", path)\n",
        "import pandas as pd\n",
        "from sklearn.model_selection import train_test_split\n",
        "from sklearn.ensemble import RandomForestClassifier\n",
        "from sklearn.preprocessing import LabelEncoder\n",
        "import kagglehub\n",
        "import os\n",
        "import pandas as pd\n",
        "path = kagglehub.dataset_download(\"rohanrao/formula-1-world-championship-1950-2020\")\n",
        "results = pd.read_csv(os.path.join(path, \"results.csv\"))\n",
        "races = pd.read_csv(os.path.join(path, \"races.csv\"))\n",
        "drivers = pd.read_csv(os.path.join(path, \"drivers.csv\"))\n",
        "constructors = pd.read_csv(os.path.join(path, \"constructors.csv\"))\n",
        "circuits = pd.read_csv(os.path.join(path, \"circuits.csv\"))"
      ]
    },
    {
      "cell_type": "code",
      "execution_count": null,
      "metadata": {},
      "outputs": [],
      "source": []
    },
    {
      "cell_type": "code",
      "execution_count": 2,
      "metadata": {
        "colab": {
          "base_uri": "https://localhost:8080/"
        },
        "id": "xX6YgzjrF98u",
        "outputId": "295a3437-0628-499e-9aae-2e224f814521"
      },
      "outputs": [
        {
          "name": "stdout",
          "output_type": "stream",
          "text": [
            "Enter driver name (e.g., hamilton): hamilton\n",
            "Enter constructor/team (e.g., mercedes): mercedes\n",
            "Enter starting grid position (e.g., 1): 1\n",
            "Enter race year (e.g., 2020): 2020\n",
            "Enter round (e.g., 1): 2\n",
            "Enter circuit (e.g., silverstone): silverstone\n",
            "Enter weather (Sunny/Rainy/Cloudy): sunny\n",
            "\n",
            "🏁 Prediction: Winner\n"
          ]
        }
      ],
      "source": [
        "# Drop columns we don't need to avoid merge conflicts\n",
        "races = races.drop(columns=['url'], errors='ignore')\n",
        "drivers = drivers.drop(columns=['url', 'dob', 'nationality'], errors='ignore')\n",
        "constructors = constructors.drop(columns=['url', 'nationality'], errors='ignore')\n",
        "circuits = circuits.drop(columns=['url', 'lat', 'lng', 'alt', 'location', 'country'], errors='ignore')\n",
        "\n",
        "# Merge cleaned data\n",
        "df = results.merge(races, on='raceId') \\\n",
        "            .merge(drivers, on='driverId') \\\n",
        "            .merge(constructors, on='constructorId') \\\n",
        "            .merge(circuits, on='circuitId')\n",
        "df['is_winner'] = df['positionOrder'].apply(lambda x: 1 if x == 1 else 0)\n",
        "df = df[['driverRef', 'constructorRef', 'grid', 'year', 'round', 'circuitRef', 'name_x', 'is_winner']]\n",
        "df.rename(columns={'name_x': 'race_name'}, inplace=True)\n",
        "import numpy as np\n",
        "np.random.seed(42)\n",
        "df['weather'] = np.random.choice(['Sunny', 'Rainy', 'Cloudy'], len(df))\n",
        "weather_encoder = LabelEncoder()\n",
        "df['weather'] = weather_encoder.fit_transform(df['weather'])\n",
        "X = df[['driverRef', 'constructorRef', 'grid', 'year', 'round', 'circuitRef', 'weather']]\n",
        "y = df['is_winner']\n",
        "X_train, X_test, y_train, y_test = train_test_split(X, y, test_size=0.2, random_state=42)\n",
        "from sklearn.preprocessing import LabelEncoder\n",
        "\n",
        "# Create label encoders for categorical columns\n",
        "categorical_cols = ['driverRef', 'constructorRef', 'circuitRef']\n",
        "label_encoders = {}\n",
        "\n",
        "for col in categorical_cols:\n",
        "    le = LabelEncoder()\n",
        "    df[col] = le.fit_transform(df[col])\n",
        "    label_encoders[col] = le\n",
        "\n",
        "# Also encode weather\n",
        "df['weather'] = LabelEncoder().fit_transform(df['weather'])\n",
        "\n",
        "# Final feature selection\n",
        "X = df[['driverRef', 'constructorRef', 'grid', 'year', 'round', 'circuitRef', 'weather']]\n",
        "y = df['is_winner']\n",
        "from sklearn.model_selection import train_test_split\n",
        "\n",
        "X_train, X_test, y_train, y_test = train_test_split(X, y, test_size=0.2, random_state=42)\n",
        "\n",
        "from sklearn.ensemble import RandomForestClassifier\n",
        "\n",
        "model = RandomForestClassifier(n_estimators=100, random_state=42)\n",
        "model.fit(X_train, y_train)\n",
        "# Take actual names and convert them using encoders\n",
        "user_driver = input(\"Enter driver name (e.g., hamilton): \").lower()\n",
        "user_team = input(\"Enter constructor/team (e.g., mercedes): \").lower()\n",
        "user_grid = int(input(\"Enter starting grid position (e.g., 1): \"))\n",
        "user_year = int(input(\"Enter race year (e.g., 2020): \"))\n",
        "user_round = int(input(\"Enter round (e.g., 1): \"))\n",
        "user_circuit = input(\"Enter circuit (e.g., silverstone): \").lower()\n",
        "user_weather = input(\"Enter weather (Sunny/Rainy/Cloudy): \").capitalize()\n",
        "try:\n",
        "    input_data = pd.DataFrame([{\n",
        "        'driverRef': label_encoders['driverRef'].transform([user_driver])[0],\n",
        "        'constructorRef': label_encoders['constructorRef'].transform([user_team])[0],\n",
        "        'grid': user_grid,\n",
        "        'year': user_year,\n",
        "        'round': user_round,\n",
        "        'circuitRef': label_encoders['circuitRef'].transform([user_circuit])[0],\n",
        "        'weather': weather_encoder.transform([user_weather])[0]\n",
        "    }])\n",
        "except:\n",
        "    print(\"🚨 Invalid input detected. Please make sure names match the dataset.\")\n",
        "    exit()\n",
        "\n",
        "# Predict\n",
        "prediction = model.predict(input_data)[0]\n",
        "print(\"\\n🏁 Prediction:\", \"Winner\" if prediction == 1 else \"Not Winner\")"
      ]
    }
  ],
  "metadata": {
    "colab": {
      "provenance": []
    },
    "kernelspec": {
      "display_name": "Python 3",
      "name": "python3"
    },
    "language_info": {
      "name": "python"
    }
  },
  "nbformat": 4,
  "nbformat_minor": 0
}
